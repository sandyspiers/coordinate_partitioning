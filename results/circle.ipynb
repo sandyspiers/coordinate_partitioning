{
 "cells": [
  {
   "cell_type": "code",
   "execution_count": null,
   "metadata": {},
   "outputs": [],
   "source": [
    "import sys\n",
    "sys.path.insert(0,\"../..\")\n",
    "import numpy as np\n",
    "import pandas as pd\n",
    "import matplotlib as mpl\n",
    "import matplotlib.pyplot as plt\n",
    "from get_results import read_df, get_performance_profiles"
   ]
  },
  {
   "cell_type": "markdown",
   "metadata": {},
   "source": [
    "# Circle Instance Results"
   ]
  },
  {
   "cell_type": "code",
   "execution_count": null,
   "metadata": {},
   "outputs": [],
   "source": [
    "df_in = read_df(\"../data/random_circle.txt\")\n",
    "df_in.head()"
   ]
  },
  {
   "cell_type": "code",
   "execution_count": null,
   "metadata": {},
   "outputs": [],
   "source": [
    "df_in[\"ratio\"].unique()"
   ]
  },
  {
   "cell_type": "markdown",
   "metadata": {},
   "source": [
    "There are some issues with the ratio, need to round $0.74\\to 0.75$ and $0.24\\to 0.25$"
   ]
  },
  {
   "cell_type": "code",
   "execution_count": null,
   "metadata": {},
   "outputs": [],
   "source": [
    "df = df_in.copy()\n",
    "df.loc[df[\"ratio\"]==0.74,\"ratio\"]=0.75\n",
    "df.loc[df[\"ratio\"]==0.24,\"ratio\"]=0.25\n",
    "df[\"ratio\"].unique()"
   ]
  },
  {
   "cell_type": "code",
   "execution_count": null,
   "metadata": {},
   "outputs": [],
   "source": [
    "df.head()"
   ]
  },
  {
   "cell_type": "code",
   "execution_count": null,
   "metadata": {},
   "outputs": [],
   "source": [
    "savefig = False\n",
    "fig_dir = \"../../docs/paper/fig\""
   ]
  },
  {
   "cell_type": "markdown",
   "metadata": {},
   "source": [
    "# Plot Style Guide"
   ]
  },
  {
   "cell_type": "code",
   "execution_count": null,
   "metadata": {},
   "outputs": [],
   "source": [
    "CM = dict(zip(df['strategy'].unique(),[mpl.colormaps[\"Set1\"](i) for i in range(len(df['strategy'].unique()))]))\n",
    "LS = dict(zip(np.sort(df['ratio'].unique())[::-1],[\"-\",\"--\",\"-.\",\":\",\"-\",\"--\"]))\n",
    "MS = dict(zip(np.sort(df['ratio'].unique())[::-1],[\"o\",\"^\",\"D\",\"x\",\"\",\"\"]))\n",
    "LS[0] = \"-\"\n",
    "MS[0] = \"\""
   ]
  },
  {
   "cell_type": "markdown",
   "metadata": {},
   "source": [
    "# Confirm size"
   ]
  },
  {
   "cell_type": "code",
   "execution_count": null,
   "metadata": {},
   "outputs": [],
   "source": [
    "tab = df[df[\"time_limit\"]==600].pivot_table(index=[\"s\",\"n\",\"p\"],columns=[\"solver\",\"strategy\",\"ratio\"],values=\"solve_time\",aggfunc=\"size\")\n",
    "tab"
   ]
  },
  {
   "cell_type": "code",
   "execution_count": null,
   "metadata": {},
   "outputs": [],
   "source": [
    "_df = df[(df[\"time_limit\"]==600)]\n",
    "_df[\"solved\"] = _df[\"total_time\"] < 600\n",
    "tab = _df.pivot_table(index=[\"s\",\"n\"],columns=[\"solver\",\"strategy\",\"ratio\"],values=\"gap\")\n",
    "tab = tab[[\n",
    "            (      'ct',         'na',  0.0),\n",
    "            (  'glover',         'na',  0.0),\n",
    "            ('coordpar',     'random', 0.25),\n",
    "            ('coordpar',     'random',  0.5),\n",
    "            ('coordpar',     'random', 0.75),\n",
    "            ('coordpar', 'stratified', 0.25),\n",
    "            ('coordpar', 'stratified',  0.5),\n",
    "            ('coordpar', 'stratified', 0.75),\n",
    "            ]]\n",
    "tab *= 100\n",
    "tab = tab.round(2)\n",
    "tab = tab.style.format('{:.2f}')\n",
    "print(tab.to_latex(multirow_align=\"naive\",convert_css=True))\n",
    "display(tab)\n",
    "tab = _df.pivot_table(index=[\"s\",\"n\"],columns=[\"solver\",\"strategy\",\"ratio\"],values=\"solved\",aggfunc=\"sum\")\n",
    "tab = tab[[\n",
    "            (      'ct',         'na',  0.0),\n",
    "            (  'glover',         'na',  0.0),\n",
    "            ('coordpar',     'random', 0.25),\n",
    "            ('coordpar',     'random',  0.5),\n",
    "            ('coordpar',     'random', 0.75),\n",
    "            ('coordpar', 'stratified', 0.25),\n",
    "            ('coordpar', 'stratified',  0.5),\n",
    "            ('coordpar', 'stratified', 0.75),\n",
    "            ]]\n",
    "print(tab.style.to_latex(multirow_align=\"naive\",convert_css=True))\n",
    "display(tab)"
   ]
  },
  {
   "cell_type": "code",
   "execution_count": null,
   "metadata": {},
   "outputs": [],
   "source": [
    "_df = df[(df[\"solver\"]==\"coordpar\") ]# &(df[\"time_limit\"] > 30)]\n",
    "fig,axes = plt.subplots(2,figsize=(8,12),sharex=True,gridspec_kw={'height_ratios': [2, 1]})\n",
    "for st in _df[\"strategy\"].unique():\n",
    "    for r in _df[_df[\"strategy\"]==st][\"ratio\"].unique():\n",
    "        G = _df[(_df[\"strategy\"]==st) & (_df[\"ratio\"]==r)].groupby(by=[\"time_limit\"])[\"bound\"].mean()\n",
    "        axes[0].plot(G,color=CM[st],ls=LS[r],marker=MS[r],label=f\"{st} {r}\")\n",
    "        G = _df[(_df[\"strategy\"]==st) & (_df[\"ratio\"]==r)].groupby(by=[\"time_limit\"])[\"objval\"].mean()\n",
    "        axes[0].plot(G,color=CM[st],ls=LS[r],marker=MS[r])#,label=f\"{st} {r}\")\n",
    "        G = _df[(_df[\"strategy\"]==st) & (_df[\"ratio\"]==r)].groupby(by=[\"time_limit\"])[\"cuts\"].mean()\n",
    "        axes[1].plot(G,color=CM[st],ls=LS[r],marker=MS[r],label=f\"{st} {r}\")\n",
    "axes[0].set_xlim(left=0)\n",
    "# axes[0].set_ylim(bottom=0)\n",
    "axes[0].set_xticks([30,60,120,300,600])\n",
    "axes[0].set_ylabel(\"Primal-Dual Gap\")\n",
    "axes[1].set_ylabel(\"Average cuts added\")\n",
    "axes[0].legend()\n",
    "axes[1].legend()\n",
    "fig.supxlabel(\"Time (sec)\")\n",
    "fig.suptitle(\"Progress over time on ball instances\")\n",
    "plt.tight_layout()\n",
    "if savefig: \n",
    "    plt.savefig(f\"{fig_dir}/pp_ball.pdf\")\n",
    "plt.show()"
   ]
  }
 ],
 "metadata": {
  "kernelspec": {
   "display_name": "py310",
   "language": "python",
   "name": "python3"
  },
  "language_info": {
   "codemirror_mode": {
    "name": "ipython",
    "version": 3
   },
   "file_extension": ".py",
   "mimetype": "text/x-python",
   "name": "python",
   "nbconvert_exporter": "python",
   "pygments_lexer": "ipython3",
   "version": "3.10.14"
  },
  "orig_nbformat": 4
 },
 "nbformat": 4,
 "nbformat_minor": 2
}
