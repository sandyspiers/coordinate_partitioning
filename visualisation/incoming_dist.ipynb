{
 "cells": [
  {
   "cell_type": "code",
   "execution_count": null,
   "metadata": {},
   "outputs": [],
   "source": [
    "import numpy as np\n",
    "import matplotlib.pyplot as plt\n",
    "from geom_median.numpy import compute_geometric_median"
   ]
  },
  {
   "cell_type": "code",
   "execution_count": null,
   "metadata": {},
   "outputs": [],
   "source": [
    "np.random.seed(5)\n",
    "\n",
    "x = np.array(\n",
    "    [\n",
    "        [2, 5.5],\n",
    "        [9.8, 2.2],\n",
    "        [8.4, 7],\n",
    "        [7.3, 8.6],\n",
    "    ]\n",
    ")\n",
    "i = [5.5, 5.3]\n",
    "J = [[5.7, 6.6], [9.5, 3.8]]\n",
    "geo_median = compute_geometric_median(np.vstack((x, i)), weights=None).median\n",
    "\n",
    "# Create the figure\n",
    "fig, axs = plt.subplots(1, 2, figsize=(10, 5), sharex=True, sharey=True)\n",
    "\n",
    "for ax, j in zip(axs, J):\n",
    "    lbl = True\n",
    "    for _x in x:\n",
    "        ax.plot(\n",
    "            [_x[0], i[0]],\n",
    "            [_x[1], i[1]],\n",
    "            color=\"red\",\n",
    "            ls=\"--\",\n",
    "            lw=1.5,\n",
    "            label=\"Outgoing distances\" if lbl else None,\n",
    "        )\n",
    "        ax.plot(\n",
    "            [_x[0], j[0]],\n",
    "            [_x[1], j[1]],\n",
    "            color=\"green\",\n",
    "            ls=\"--\",\n",
    "            lw=1.5,\n",
    "            label=\"Incoming distances\" if lbl else None,\n",
    "        )\n",
    "        lbl = False\n",
    "    ax.plot([i[0], j[0]], [i[1], j[1]], color=\"green\", ls=\"--\", lw=3)\n",
    "\n",
    "    ax.plot(x[:, 0], x[:, 1], color=\"blue\", ls=\"\", marker=\"o\", ms=8, label=\"$I(y)$\")\n",
    "    ax.plot(\n",
    "        geo_median[0],\n",
    "        geo_median[1],\n",
    "        color=\"purple\",\n",
    "        ls=\"\",\n",
    "        marker=\"+\",\n",
    "        ms=10,\n",
    "        mew=3,\n",
    "        label=\"Geometric median of $I(y)$\",\n",
    "    )\n",
    "    ax.plot(i[0], i[1], color=\"blue\", ls=\"\", marker=\"s\", ms=10, label=\"Outgoing point\")\n",
    "    ax.plot(\n",
    "        j[0], j[1], color=\"orange\", ls=\"\", marker=\"*\", ms=14, label=\"Incoming point\"\n",
    "    )\n",
    "\n",
    "axs[0].legend(loc=\"lower left\")\n",
    "plt.tight_layout()\n",
    "plt.savefig(\"../fig/exclusion_sum_distances_demo.pdf\")\n",
    "plt.show()"
   ]
  }
 ],
 "metadata": {
  "kernelspec": {
   "display_name": "Python 3",
   "language": "python",
   "name": "python3"
  },
  "language_info": {
   "codemirror_mode": {
    "name": "ipython",
    "version": 3
   },
   "file_extension": ".py",
   "mimetype": "text/x-python",
   "name": "python",
   "nbconvert_exporter": "python",
   "pygments_lexer": "ipython3",
   "version": "3.12.5"
  }
 },
 "nbformat": 4,
 "nbformat_minor": 2
}
